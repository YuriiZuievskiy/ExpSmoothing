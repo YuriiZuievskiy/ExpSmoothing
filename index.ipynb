{
 "metadata": {
  "language_info": {
   "codemirror_mode": {
    "name": "ipython",
    "version": 3
   },
   "file_extension": ".py",
   "mimetype": "text/x-python",
   "name": "python",
   "nbconvert_exporter": "python",
   "pygments_lexer": "ipython3",
   "version": "3.8.5"
  },
  "orig_nbformat": 2,
  "kernelspec": {
   "name": "python3",
   "display_name": "Python 3.8.5 64-bit ('usr')",
   "metadata": {
    "interpreter": {
     "hash": "31f2aee4e71d21fbe5cf8b01ff0e069b9275f58929596ceb00d14d90e3e16cd6"
    }
   }
  }
 },
 "nbformat": 4,
 "nbformat_minor": 2,
 "cells": [
  {
   "cell_type": "code",
   "execution_count": 3,
   "metadata": {},
   "outputs": [],
   "source": [
    "import pandas as pd\n",
    "\n",
    "df = pd.read_excel(\"DatasetAAPl.xlsx\")"
   ]
  },
  {
   "cell_type": "code",
   "execution_count": 12,
   "metadata": {},
   "outputs": [],
   "source": [
    "def exponential_smoothing(series, alpha):\n",
    "    result = [series[0]]\n",
    "    for n in range(1, len(series)):\n",
    "        result.append(alpha * series[n] + (1 - alpha) * result[n-1])\n",
    "    return result"
   ]
  },
  {
   "cell_type": "code",
   "execution_count": 11,
   "metadata": {},
   "outputs": [
    {
     "output_type": "execute_result",
     "data": {
      "text/plain": [
       "   Чистая прибыль  Исслед и разработки  Общие опер. расходы  \\\n",
       "0          94.680               21.914              256.868   \n",
       "1          57.411               18.752              208.277   \n",
       "2          55.256               16.217              196.244   \n",
       "3          59.531               14.238              194.697   \n",
       "4          48.351               11.581              167.890   \n",
       "5          45.687               10.045              155.615   \n",
       "6          53.348                8.067              162.485   \n",
       "7          39.510                6.041              130.292   \n",
       "8          31.244                5.340              167.546   \n",
       "9          45.460                4.127              141.578   \n",
       "\n",
       "   денежные средства от опер. деятельтности  \\\n",
       "0                                    93.146   \n",
       "1                                    80.675   \n",
       "2                                    69.391   \n",
       "3                                    77.434   \n",
       "4                                    64.255   \n",
       "5                                    66.231   \n",
       "6                                    81.266   \n",
       "7                                    59.713   \n",
       "8                                    50.310   \n",
       "9                                    69.468   \n",
       "\n",
       "   денежные средства от инвест. Деятельности  \n",
       "0                                    -14.545  \n",
       "1                                     -4.289  \n",
       "2                                     45.896  \n",
       "3                                     16.066  \n",
       "4                                    -46.446  \n",
       "5                                    -45.977  \n",
       "6                                    -56.277  \n",
       "7                                    -22.567  \n",
       "8                                    -36.765  \n",
       "9                                     68.489  "
      ],
      "text/html": "<div>\n<style scoped>\n    .dataframe tbody tr th:only-of-type {\n        vertical-align: middle;\n    }\n\n    .dataframe tbody tr th {\n        vertical-align: top;\n    }\n\n    .dataframe thead th {\n        text-align: right;\n    }\n</style>\n<table border=\"1\" class=\"dataframe\">\n  <thead>\n    <tr style=\"text-align: right;\">\n      <th></th>\n      <th>Чистая прибыль</th>\n      <th>Исслед и разработки</th>\n      <th>Общие опер. расходы</th>\n      <th>денежные средства от опер. деятельтности</th>\n      <th>денежные средства от инвест. Деятельности</th>\n    </tr>\n  </thead>\n  <tbody>\n    <tr>\n      <th>0</th>\n      <td>94.680</td>\n      <td>21.914</td>\n      <td>256.868</td>\n      <td>93.146</td>\n      <td>-14.545</td>\n    </tr>\n    <tr>\n      <th>1</th>\n      <td>57.411</td>\n      <td>18.752</td>\n      <td>208.277</td>\n      <td>80.675</td>\n      <td>-4.289</td>\n    </tr>\n    <tr>\n      <th>2</th>\n      <td>55.256</td>\n      <td>16.217</td>\n      <td>196.244</td>\n      <td>69.391</td>\n      <td>45.896</td>\n    </tr>\n    <tr>\n      <th>3</th>\n      <td>59.531</td>\n      <td>14.238</td>\n      <td>194.697</td>\n      <td>77.434</td>\n      <td>16.066</td>\n    </tr>\n    <tr>\n      <th>4</th>\n      <td>48.351</td>\n      <td>11.581</td>\n      <td>167.890</td>\n      <td>64.255</td>\n      <td>-46.446</td>\n    </tr>\n    <tr>\n      <th>5</th>\n      <td>45.687</td>\n      <td>10.045</td>\n      <td>155.615</td>\n      <td>66.231</td>\n      <td>-45.977</td>\n    </tr>\n    <tr>\n      <th>6</th>\n      <td>53.348</td>\n      <td>8.067</td>\n      <td>162.485</td>\n      <td>81.266</td>\n      <td>-56.277</td>\n    </tr>\n    <tr>\n      <th>7</th>\n      <td>39.510</td>\n      <td>6.041</td>\n      <td>130.292</td>\n      <td>59.713</td>\n      <td>-22.567</td>\n    </tr>\n    <tr>\n      <th>8</th>\n      <td>31.244</td>\n      <td>5.340</td>\n      <td>167.546</td>\n      <td>50.310</td>\n      <td>-36.765</td>\n    </tr>\n    <tr>\n      <th>9</th>\n      <td>45.460</td>\n      <td>4.127</td>\n      <td>141.578</td>\n      <td>69.468</td>\n      <td>68.489</td>\n    </tr>\n  </tbody>\n</table>\n</div>"
     },
     "metadata": {},
     "execution_count": 11
    }
   ],
   "source": [
    "df.iloc[:,1:]"
   ]
  },
  {
   "cell_type": "code",
   "execution_count": null,
   "metadata": {},
   "outputs": [],
   "source": []
  }
 ]
}